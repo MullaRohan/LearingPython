{
 "cells": [
  {
   "cell_type": "code",
   "execution_count": 9,
   "id": "6368209b",
   "metadata": {},
   "outputs": [
    {
     "data": {
      "text/plain": [
       "3"
      ]
     },
     "execution_count": 9,
     "metadata": {},
     "output_type": "execute_result"
    }
   ],
   "source": [
    "import numpy as np\n",
    "\n",
    "arr1 = np.array([[[1, 2, 3], [4, 5, 6], [7, 8, 9]]])\n",
    "arr1.ndim"
   ]
  },
  {
   "cell_type": "code",
   "execution_count": 4,
   "id": "d220a37b",
   "metadata": {},
   "outputs": [
    {
     "data": {
      "text/plain": [
       "(1, 3, 3)"
      ]
     },
     "execution_count": 4,
     "metadata": {},
     "output_type": "execute_result"
    }
   ],
   "source": [
    "arr1.shape"
   ]
  },
  {
   "cell_type": "code",
   "execution_count": 8,
   "id": "5c8f07a1",
   "metadata": {},
   "outputs": [
    {
     "data": {
      "text/plain": [
       "8"
      ]
     },
     "execution_count": 8,
     "metadata": {},
     "output_type": "execute_result"
    }
   ],
   "source": [
    "arr1.itemsize"
   ]
  },
  {
   "cell_type": "code",
   "execution_count": null,
   "id": "0964e573",
   "metadata": {},
   "outputs": [
    {
     "name": "stdout",
     "output_type": "stream",
     "text": [
      "[1.  2.  4.5]\n"
     ]
    }
   ],
   "source": [
    "arr2 = np.array([1, 2, 4.5])\n",
    "arr2.itemsize\n",
    "print(arr2)"
   ]
  },
  {
   "cell_type": "markdown",
   "id": "bbddbd35",
   "metadata": {},
   "source": [
    "<h1 style=\"color: red; font-size: 25px;\"> Range - Zeros - Ones </h1>\n",
    "Range np.arange(start,end, step)<br>\n",
    "zeros np.zeros((shape)) <br>\n",
    "ones np.ones((shape))\n"
   ]
  },
  {
   "cell_type": "code",
   "execution_count": 20,
   "id": "2cd27b28",
   "metadata": {},
   "outputs": [
    {
     "name": "stdout",
     "output_type": "stream",
     "text": [
      "[1 3 5 7 9]\n",
      "[2 3 4 5 6 7 8 9]\n"
     ]
    }
   ],
   "source": [
    "arr1 = np.arange(1, 10, 2)\n",
    "print(arr1)\n",
    "arr1 = np.arange(2, 10)\n",
    "print(arr1)"
   ]
  },
  {
   "cell_type": "code",
   "execution_count": 23,
   "id": "4aed2a61",
   "metadata": {},
   "outputs": [
    {
     "data": {
      "text/plain": [
       "array([[0, 0, 0, 0],\n",
       "       [0, 0, 0, 0],\n",
       "       [0, 0, 0, 0]], dtype=int32)"
      ]
     },
     "execution_count": 23,
     "metadata": {},
     "output_type": "execute_result"
    }
   ],
   "source": [
    "arr1 = np.zeros((3, 4), dtype=\"int32\")\n",
    "arr1"
   ]
  },
  {
   "cell_type": "code",
   "execution_count": 24,
   "id": "0f85877c",
   "metadata": {},
   "outputs": [
    {
     "data": {
      "text/plain": [
       "array([[1, 1, 1],\n",
       "       [1, 1, 1],\n",
       "       [1, 1, 1]])"
      ]
     },
     "execution_count": 24,
     "metadata": {},
     "output_type": "execute_result"
    }
   ],
   "source": [
    "arr = np.ones((3, 3), dtype=\"int64\")\n",
    "arr"
   ]
  },
  {
   "cell_type": "markdown",
   "id": "d79d96cc",
   "metadata": {},
   "source": [
    "<h1 style=\"color: red; font-size: 25px;\"> Identity Array </h1>\n",
    "np.identity(n) -> makes an n*n diagonal 2d array <br>\n",
    "np.eye(shape) -> makes an row * column diagonal array"
   ]
  },
  {
   "cell_type": "code",
   "execution_count": 36,
   "id": "f7acb2f1",
   "metadata": {},
   "outputs": [
    {
     "name": "stdout",
     "output_type": "stream",
     "text": [
      "[[1 0 0 0]\n",
      " [0 1 0 0]\n",
      " [0 0 1 0]\n",
      " [0 0 0 1]]\n",
      "[[1 0 0 0 0]\n",
      " [0 1 0 0 0]\n",
      " [0 0 1 0 0]\n",
      " [0 0 0 1 0]\n",
      " [0 0 0 0 1]]\n"
     ]
    }
   ],
   "source": [
    "arr = np.identity(4, dtype=\"int32\")\n",
    "print(arr)\n",
    "arr = np.eye(5, 5, dtype=\"int32\")\n",
    "print(arr)"
   ]
  },
  {
   "cell_type": "markdown",
   "id": "1ab5a42c",
   "metadata": {},
   "source": [
    "<h1 style=\"color: red; font-size: 25px;\"> Lin Space </h1>\n",
    "Lin space define np.linspace(start,end,how much element you want between start and end)"
   ]
  },
  {
   "cell_type": "code",
   "execution_count": 38,
   "id": "aa17cdf9",
   "metadata": {},
   "outputs": [
    {
     "data": {
      "text/plain": [
       "array([1., 2., 3., 4., 5.])"
      ]
     },
     "execution_count": 38,
     "metadata": {},
     "output_type": "execute_result"
    }
   ],
   "source": [
    "arr = np.linspace(1, 5, 5)\n",
    "arr"
   ]
  },
  {
   "cell_type": "markdown",
   "id": "7ed7d7d1",
   "metadata": {},
   "source": [
    "<h1 style=\"color: red; font-size: 25px;\"> reshape [np.reshape(dim,dim)] </h1>\n",
    "* First you should declare a ndim array. <br>\n",
    "* Then you can reshape according these. but if you reshape not according the original\n",
    "    it may not work.\n",
    "<h1 style=\"color: red; font-size: 25px;\"> ravel [np.ravel()] </h1>\n",
    "* it return ndim array to 1 dimensio array."
   ]
  },
  {
   "cell_type": "code",
   "execution_count": 52,
   "id": "caeb3606",
   "metadata": {},
   "outputs": [
    {
     "name": "stdout",
     "output_type": "stream",
     "text": [
      "(3, 4)\n",
      "[10 20 30 40 20 30 40 50  1  2  3  4]\n"
     ]
    }
   ],
   "source": [
    "arr = np.array([[10, 20, 30, 40], [20, 30, 40, 50], [1, 2, 3, 4]])\n",
    "print(arr.shape)\n",
    "arr = arr.reshape(1, 12)\n",
    "print(arr[0])"
   ]
  },
  {
   "cell_type": "code",
   "execution_count": null,
   "id": "f1592869",
   "metadata": {},
   "outputs": [
    {
     "name": "stdout",
     "output_type": "stream",
     "text": [
      "(3, 4)\n"
     ]
    }
   ],
   "source": [
    "arr = np.array([[10, 20, 30, 40], [20, 30, 40, 50], [1, 2, 3, 4]])\n",
    "print(arr.ravel())\n",
    "print(arr.shape)"
   ]
  },
  {
   "cell_type": "code",
   "execution_count": null,
   "id": "30a23dac",
   "metadata": {},
   "outputs": [],
   "source": []
  }
 ],
 "metadata": {
  "kernelspec": {
   "display_name": "Python 3",
   "language": "python",
   "name": "python3"
  },
  "language_info": {
   "codemirror_mode": {
    "name": "ipython",
    "version": 3
   },
   "file_extension": ".py",
   "mimetype": "text/x-python",
   "name": "python",
   "nbconvert_exporter": "python",
   "pygments_lexer": "ipython3",
   "version": "3.13.7"
  }
 },
 "nbformat": 4,
 "nbformat_minor": 5
}
