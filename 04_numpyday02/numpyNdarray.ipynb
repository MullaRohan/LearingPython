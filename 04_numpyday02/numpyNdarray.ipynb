{
 "cells": [
  {
   "cell_type": "code",
   "execution_count": null,
   "id": "d05c4c0d",
   "metadata": {},
   "outputs": [
    {
     "data": {
      "text/plain": [
       "array([10, 20, 30, 40, 50, 60, 70, 80], dtype=int32)"
      ]
     },
     "execution_count": 3,
     "metadata": {},
     "output_type": "execute_result"
    }
   ],
   "source": [
    "import numpy as np\n",
    "\n",
    "ls = np.array([10, 20, 30, 40, 50, 60, 70, 80], dtype=\"int32\")\n",
    "ls"
   ]
  },
  {
   "cell_type": "code",
   "execution_count": null,
   "id": "f2cf9081",
   "metadata": {},
   "outputs": [
    {
     "name": "stdout",
     "output_type": "stream",
     "text": [
      "360\n",
      "30\n"
     ]
    }
   ],
   "source": [
    "print(np.sum(ls, dtype=\"int32\"))\n",
    "print(np.subtract(ls[4], ls[1]))"
   ]
  },
  {
   "cell_type": "code",
   "execution_count": null,
   "id": "1aed94e5",
   "metadata": {},
   "outputs": [
    {
     "name": "stdout",
     "output_type": "stream",
     "text": [
      "10 20 30 40 50 60 70 80 "
     ]
    }
   ],
   "source": [
    "for i in range(0, len(ls), 1):\n",
    "    print(ls[i], end=\" \")"
   ]
  },
  {
   "cell_type": "code",
   "execution_count": 12,
   "id": "d0f3a790",
   "metadata": {},
   "outputs": [
    {
     "name": "stdout",
     "output_type": "stream",
     "text": [
      "10 20 30 40 50 60 70 80 "
     ]
    }
   ],
   "source": [
    "for i in ls:\n",
    "    print(i, end=\" \")"
   ]
  },
  {
   "cell_type": "code",
   "execution_count": null,
   "id": "f64323e0",
   "metadata": {},
   "outputs": [
    {
     "data": {
      "text/plain": [
       "8"
      ]
     },
     "execution_count": 14,
     "metadata": {},
     "output_type": "execute_result"
    }
   ],
   "source": [
    "len(ls)"
   ]
  },
  {
   "cell_type": "code",
   "execution_count": null,
   "id": "c9d7b34b",
   "metadata": {},
   "outputs": [
    {
     "name": "stdout",
     "output_type": "stream",
     "text": [
      "[  10  112  225 1987]\n"
     ]
    }
   ],
   "source": [
    "arr = np.array([10, 112, 225, 1987], dtype=\"int16\")\n",
    "print(arr)"
   ]
  },
  {
   "cell_type": "code",
   "execution_count": null,
   "id": "67871319",
   "metadata": {},
   "outputs": [
    {
     "name": "stdout",
     "output_type": "stream",
     "text": [
      "[10.2  55.3  11.11 99.   10.  ]\n",
      "[10 55 11 99 10]\n",
      "[55 11]\n"
     ]
    }
   ],
   "source": [
    "brr = np.array([10.20, 55.30, 11.11, 99, 10])\n",
    "print(brr)\n",
    "brr = brr.astype(int)\n",
    "print(brr)\n",
    "print(brr[1:3])"
   ]
  },
  {
   "cell_type": "code",
   "execution_count": null,
   "id": "5692b4e7",
   "metadata": {},
   "outputs": [],
   "source": []
  }
 ],
 "metadata": {
  "kernelspec": {
   "display_name": "Python 3",
   "language": "python",
   "name": "python3"
  },
  "language_info": {
   "codemirror_mode": {
    "name": "ipython",
    "version": 3
   },
   "file_extension": ".py",
   "mimetype": "text/x-python",
   "name": "python",
   "nbconvert_exporter": "python",
   "pygments_lexer": "ipython3",
   "version": "3.13.7"
  }
 },
 "nbformat": 4,
 "nbformat_minor": 5
}
