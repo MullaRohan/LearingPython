{
 "cells": [
  {
   "cell_type": "markdown",
   "id": "9d7c5861",
   "metadata": {},
   "source": [
    "Remove frist n character from string"
   ]
  },
  {
   "cell_type": "code",
   "execution_count": null,
   "id": "e0083ee9",
   "metadata": {},
   "outputs": [
    {
     "name": "stdout",
     "output_type": "stream",
     "text": [
      "loWrold\n"
     ]
    }
   ],
   "source": [
    "def removeChar(str, n):\n",
    "    print(str[n:])\n",
    "\n",
    "\n",
    "# str = input(\"Enter String: \")\n",
    "str = \"HelloWrold\"\n",
    "# n = int(input(\"Enter the n: \"))\n",
    "n = 3\n",
    "removeChar(str, n)"
   ]
  },
  {
   "cell_type": "markdown",
   "id": "e4962bc8",
   "metadata": {},
   "source": [
    "break sentence string -> get word<br/>\n",
    "break word -> get alphabet<br/>\n",
    "string:  \"bangladesh is a beautiful country\"<br/>  \n",
    "string[0] = bangladesh<br/>\n",
    "string[0][1] = a<br/>\n",
    "string[0][:3] = ban<br/>\n",
    "string[0][7:] = esh<br/>"
   ]
  },
  {
   "cell_type": "code",
   "execution_count": 10,
   "id": "bff84bd0",
   "metadata": {},
   "outputs": [
    {
     "data": {
      "text/plain": [
       "'gical'"
      ]
     },
     "execution_count": 10,
     "metadata": {},
     "output_type": "execute_result"
    }
   ],
   "source": [
    "str = \"arithmeic logical unit\"\n",
    "lst = []\n",
    "lst.append(str)\n",
    "lst[0][12:17]"
   ]
  },
  {
   "cell_type": "markdown",
   "id": "a8d36990",
   "metadata": {},
   "source": [
    "check first and last index same or not"
   ]
  },
  {
   "cell_type": "code",
   "execution_count": 29,
   "id": "8d3ea792",
   "metadata": {},
   "outputs": [
    {
     "name": "stdout",
     "output_type": "stream",
     "text": [
      "True\n"
     ]
    }
   ],
   "source": [
    "import numpy as np\n",
    "\n",
    "\n",
    "def check(ls):\n",
    "    return ls[0] == ls[len(ls) - 1]\n",
    "\n",
    "\n",
    "ls = np.array([10, 20, 30, 40, 10])\n",
    "\n",
    "print(check(ls))"
   ]
  },
  {
   "cell_type": "markdown",
   "id": "f3d2861b",
   "metadata": {},
   "source": [
    "Divisible by 5"
   ]
  },
  {
   "cell_type": "code",
   "execution_count": 34,
   "id": "1903dc3f",
   "metadata": {},
   "outputs": [
    {
     "name": "stdout",
     "output_type": "stream",
     "text": [
      "None\n"
     ]
    }
   ],
   "source": [
    "def divbyFive(ls):\n",
    "    ans = []\n",
    "    for i in ls:\n",
    "        if i % 5 == 0:\n",
    "            ans.append(i)\n",
    "    return ans\n",
    "\n",
    "\n",
    "ls = np.array(list(map(int, input().split())))\n",
    "ans = divbyFive(ls)\n",
    "if len(ans) == 0:\n",
    "    print(\"None\")\n",
    "else:\n",
    "    for item in ans:\n",
    "        print(item, end=\" \")"
   ]
  },
  {
   "cell_type": "markdown",
   "id": "6e2a2bf9",
   "metadata": {},
   "source": [
    "Counting word in String"
   ]
  },
  {
   "cell_type": "code",
   "execution_count": 36,
   "id": "712cc15f",
   "metadata": {},
   "outputs": [
    {
     "name": "stdout",
     "output_type": "stream",
     "text": [
      "0\n"
     ]
    }
   ],
   "source": [
    "str = input(\"Enter String : \")\n",
    "str2 = input(\"Counting String : \")\n",
    "\n",
    "print(str.count(str2))"
   ]
  },
  {
   "cell_type": "markdown",
   "id": "e6ebff5d",
   "metadata": {},
   "source": [
    "Pattern print<br/>\n",
    "1<br/>\n",
    "2 2<br/>\n",
    "3 3 3<br/>\n",
    "4 4 4 4<br/>\n",
    "5 5 5 5 5<br/>"
   ]
  },
  {
   "cell_type": "code",
   "execution_count": null,
   "id": "74b50a3c",
   "metadata": {},
   "outputs": [
    {
     "name": "stdout",
     "output_type": "stream",
     "text": [
      "\n",
      "\n",
      "1 \n",
      "\n",
      "2 2 \n",
      "\n",
      "3 3 3 \n",
      "\n",
      "4 4 4 4 \n",
      "\n",
      "5 5 5 5 5 \n",
      "\n"
     ]
    }
   ],
   "source": [
    "n = int(input())\n",
    "\n",
    "for i in range(n + 1):\n",
    "    for j in range(i):\n",
    "        print(i, end=\" \")\n",
    "    print(\"\\n\")"
   ]
  },
  {
   "cell_type": "markdown",
   "id": "b769968b",
   "metadata": {},
   "source": [
    "Check Palindrom or Not"
   ]
  },
  {
   "cell_type": "code",
   "execution_count": null,
   "id": "1434fa49",
   "metadata": {},
   "outputs": [
    {
     "name": "stdout",
     "output_type": "stream",
     "text": [
      "Original String is: abraarba\n",
      "Yes The Given String is Palindrome.\n"
     ]
    }
   ],
   "source": [
    "def checkPalin(str):\n",
    "    i = 0\n",
    "    j = len(str) - 1\n",
    "    while i < j:\n",
    "        if str[i] != str[j]:\n",
    "            return False\n",
    "        i += 1\n",
    "        j -= 1\n",
    "    return True\n",
    "\n",
    "\n",
    "str = input(\"Enter String: \")\n",
    "print(f\"Original String is: {str}\")\n",
    "if checkPalin(str):\n",
    "    print(f\"Yes The Given String is Palindrome.\")\n",
    "else:\n",
    "    print(\"No, Given String is not Palindrome\")"
   ]
  },
  {
   "cell_type": "markdown",
   "id": "0c2e131b",
   "metadata": {},
   "source": [
    "Create pthon Code that merge odd number from two list."
   ]
  },
  {
   "cell_type": "code",
   "execution_count": 1,
   "id": "8e94cf2b",
   "metadata": {},
   "outputs": [],
   "source": [
    "import numpy as np\n",
    "\n",
    "\n",
    "def mergeOdd(arr1, arr2):\n",
    "    merged = []\n",
    "    for i in arr1:\n",
    "        if i % 2:\n",
    "            merged.append(i)\n",
    "    for i in arr2:\n",
    "        if i % 2:\n",
    "            merged.append(i)\n",
    "    return merged\n",
    "\n",
    "\n",
    "arr1 = np.array(list(map(int, input(\"Enter 1st Array: \").split())))\n",
    "arr2 = np.array(list(map(int, input(\"Enter 2nd Array: \").split())))\n",
    "\n",
    "finalArray = mergeOdd(arr1, arr2)\n",
    "\n",
    "for ele in finalArray:\n",
    "    print(ele, end=\" \")"
   ]
  },
  {
   "cell_type": "code",
   "execution_count": null,
   "id": "5e8a1a8c",
   "metadata": {},
   "outputs": [],
   "source": []
  }
 ],
 "metadata": {
  "kernelspec": {
   "display_name": "Python 3",
   "language": "python",
   "name": "python3"
  },
  "language_info": {
   "codemirror_mode": {
    "name": "ipython",
    "version": 3
   },
   "file_extension": ".py",
   "mimetype": "text/x-python",
   "name": "python",
   "nbconvert_exporter": "python",
   "pygments_lexer": "ipython3",
   "version": "3.13.7"
  }
 },
 "nbformat": 4,
 "nbformat_minor": 5
}
